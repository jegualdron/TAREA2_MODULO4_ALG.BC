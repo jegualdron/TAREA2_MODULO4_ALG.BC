{
  "nbformat": 4,
  "nbformat_minor": 0,
  "metadata": {
    "colab": {
      "name": "Untitled1.ipynb",
      "provenance": [],
      "authorship_tag": "ABX9TyODR09AbxONE6g+4qm/hdPd",
      "include_colab_link": true
    },
    "kernelspec": {
      "name": "python3",
      "display_name": "Python 3"
    },
    "language_info": {
      "name": "python"
    }
  },
  "cells": [
    {
      "cell_type": "markdown",
      "metadata": {
        "id": "view-in-github",
        "colab_type": "text"
      },
      "source": [
        "<a href=\"https://colab.research.google.com/github/jegualdron/TAREA2_MODULO4_ALG.BC/blob/main/TAREA2_MODULO4.ipynb\" target=\"_parent\"><img src=\"https://colab.research.google.com/assets/colab-badge.svg\" alt=\"Open In Colab\"/></a>"
      ]
    },
    {
      "cell_type": "markdown",
      "source": [
        "# **Pontificia Universidad Católica del Ecuador**\n",
        "\n",
        "##Maestría en Biología computacional\n",
        "###Algoritmos de Biología computacional\n",
        "\n"
      ],
      "metadata": {
        "id": "JfuBwRCQ8Wop"
      }
    },
    {
      "cell_type": "markdown",
      "source": [
        "integrantes grupo 5: Yadira Salguero, Manuel Coba, Andrés Herrera, Gabriela Méndez, Alexander Maldonado, Javier Gualdrón, Marco Viteri, Tanya Recalde"
      ],
      "metadata": {
        "id": "VC4Mvd_B-On9"
      }
    },
    {
      "cell_type": "markdown",
      "source": [
        " # Glosario de Términos"
      ],
      "metadata": {
        "id": "Jwnbhf8Q_pdN"
      }
    },
    {
      "cell_type": "markdown",
      "source": [
        "**Capa de entrada:** la primera capa de una red que contiene toda la información de entrada. Cada neurona debe representar una característica de entrada. La capa de entrada no tiene un sesgo.\n",
        "\n"
      ],
      "metadata": {
        "id": "yun76J68MJiw"
      }
    },
    {
      "cell_type": "markdown",
      "source": [
        "**Capa oculta:** (hidden layer) esta es una capa que se encuentra entre las capas de entrada y salida, cuyas salidas solo van a otras neuronas de la red. Puede tener cualquier número de neuronas."
      ],
      "metadata": {
        "id": "0L-CZSyUNiZv"
      }
    },
    {
      "cell_type": "markdown",
      "source": [
        "**Capa de salida:** esta es la última capa en una red neuronal. Utiliza alguna función de activación (ej. sigmoide) para producir la salida del modelo. El número de salidas deseadas/requeridas en el problema de clasificación determina el número de neuronas en esta capa"
      ],
      "metadata": {
        "id": "cWFiIMPMN8a4"
      }
    },
    {
      "cell_type": "markdown",
      "source": [
        "**Inteligencia artificial (IA):** tambien conocido como inteligencia de maquina se refiere a los sistemas que muestran un comportamiento inteligente mediante el análisis de su entorno y la adopción de medidas, con cierto grado de autonomía, para lograr objetivos específicos. Los sistemas basados en IA pueden basarse puramente en software y actuar en el mundo virtual (p. ej., asistentes de voz, software de análisis de imágenes, motores de búsqueda, sistemas de reconocimiento de voz y rostro) o puede integrarse en dispositivos de hardware (p. ej., robots avanzados, sistemas autónomos, automóviles, drones o aplicaciones de Internet de las cosas). El término IA fue acuñado por primera vez por John McCarthy en 1956."
      ],
      "metadata": {
        "id": "6doQSOUfAujC"
      }
    },
    {
      "cell_type": "markdown",
      "source": [
        "**Peso:** cada neurona tiene pesos que multiplican cada entrada (es decir, w1x1 + w2x2 + b) que entra en la función de activación."
      ],
      "metadata": {
        "id": "agLYb4sGPk6x"
      }
    },
    {
      "cell_type": "markdown",
      "source": [
        "**Red Neural Artificial (ANN):** es un modelo computacional en aprendizaje automático, que está inspirado en las estructuras y funciones biológicas del cerebro de los mamíferos. Dicho modelo consta de múltiples unidades llamadas neuronas artificiales que construyen conexiones entre sí para pasar información. La ventaja de este modelo es que \"aprende\" progresivamente las tareas a partir de los datos proporcionados sin una programación específica para una sola tarea.\n"
      ],
      "metadata": {
        "id": "TpGAdhTNME1E"
      }
    },
    {
      "cell_type": "markdown",
      "source": [
        "**Red Neuronal Convolucional (CNN):** es una clase de red neuronal artificial (ANN), que se aplica más comúnmente para analizar imágenes visuales, se basan en la arquitectura de peso compartido de los núcleos de convolución o filtros que se deslizan a lo largo de las características de entrada y proporcionan respuestas equivalentes a la traducción conocidas como mapas de características. Tienen aplicaciones en reconocimiento de imágenes y videos, sistemas de recomendación, clasificación de imágenes, segmentación de imágenes, análisis de imágenes médicas, procesamiento de lenguaje natural, interfaces cerebro-computadora, y series temporales financieras."
      ],
      "metadata": {
        "id": "xCC-uEnXQTUE"
      }
    },
    {
      "cell_type": "markdown",
      "source": [
        "**Redes con aprendizaje supervisado:** se caracteriza porque el proceso de aprendizaje se realiza mediante un entrenamiento controlado por un agente externo (supervisor, maestro) que determina la respuesta que debería generar la red a partir de una entrada determinada. El supervisor controla la salida de la red y en caso de que ésta no coincida con la deseada, se procederá a modificar los pesos de las conexiones, con el fin de conseguir que la salida obtenida se aproxime a la deseada."
      ],
      "metadata": {
        "id": "EEnbb7CfTCJi"
      }
    },
    {
      "cell_type": "markdown",
      "source": [
        "**Redes con aprendizaje no supervisado:** (también conocido como\n",
        "autosupervisado) no requieren influencia externa para ajustar los pesos de las\n",
        "conexiones entre sus neuronas. La red no recibe ninguna información por parte del\n",
        "entorno que le indique si la salida generada en respuesta a una determinada entrada es o\n",
        "no correcta.\n",
        "Estas redes deben encontrar las características, regularidades, correlaciones o\n",
        "categorías que se puedan establecer entre los datos que se presenten en su entrada.\n",
        "Existen varias posibilidades en cuanto a la interpretación de la salida de estas redes, que\n",
        "dependen de su estructura y del algoritmo de aprendizaje empleado."
      ],
      "metadata": {
        "id": "PpykPNJ6Uk50"
      }
    },
    {
      "cell_type": "markdown",
      "source": [
        "**Tasa de aprendizaje:** la velocidad a la que el modelo cambia las ponderaciones (pesos) y los términos de sesgo con cada iteración. Al aumentar la tasa de aprendizaje, se aumenta la velocidad a la que aprenderá un modelo, pero también aumenta el riesgo de que no se encuentre el mínimo global (es decir, el riesgo de que oscile a ambos lados del mínimo global porque el tamaño del paso es demasiado alto). La tasa de aprendizaje es un hiperparámetro clave."
      ],
      "metadata": {
        "id": "pQ_olaZDOLJZ"
      }
    },
    {
      "cell_type": "markdown",
      "source": [
        "**Término de impulso:** un término agregado al cambio de peso en la retropropagación para lograr un mejor aprendizaje saltando fuera de los mínimos locales."
      ],
      "metadata": {
        "id": "6P4KjweEO1FD"
      }
    },
    {
      "cell_type": "markdown",
      "source": [
        "###Bibliografía \n",
        "Collobert, Ronan; Weston, Jason (2008). A Unified Architecture for Natural Language Processing: Deep Neural Networks with Multitask Learning. pp. 160–167. doi:10.1145/1390156.1390177\n",
        "\n",
        "Matich, D., Ruiz, C., & Basualdo, M. (2001). Redes Neuronales: Conceptos Básicos y Aplicaciones. Rosario. Obtenido de https://www.frro.utn.edu.ar/repositorio/catedras/quimica/5_anio/orientadora1/monograias/matich-redesneuronales.pdf\n",
        "\n",
        "Patterson, J., & Gibson, A. (2017). Deep Learning. O'Reilly Media, Inc.\n",
        "\n",
        "Ranschaert, E., Morozov, S., & Algra, P. (2019). Artificial Intelligence in Medical Imaging: Opportunities, Applications and Risks. Switzerland: Springer Cham. Obtenido de https://doi.org/10.1007/978-3-319-94878-2\n",
        "\n"
      ],
      "metadata": {
        "id": "MshC3mfBW_yj"
      }
    }
  ]
}